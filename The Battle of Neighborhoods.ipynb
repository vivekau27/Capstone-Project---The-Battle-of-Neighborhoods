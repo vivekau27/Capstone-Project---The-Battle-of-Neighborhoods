{
    "cells": [
        {
            "cell_type": "markdown",
            "metadata": {
                "collapsed": true
            },
            "source": "## Introduction \n\nWe will explore 3 cities and will try to understand how diverse their Neighborhoods are.  We will take the New York City and the city of Toronto along with city of London. We will segment and cluster their neighborhoods. All cities are very diverse and are the financial capitals of their respective countries. One interesting idea would be to compare the neighborhoods of the three cities and determine how similar or dissimilar they are."
        },
        {
            "cell_type": "markdown",
            "metadata": {},
            "source": "## Now we will discuss and see what Data source we will be using for our analysis here:"
        },
        {
            "cell_type": "markdown",
            "metadata": {},
            "source": "## 1. For City of New York\n\n"
        },
        {
            "cell_type": "markdown",
            "metadata": {},
            "source": "We will use the source  dataset that exists on  https://geo.nyu.edu/catalog/nyu_2451_34572 to prepare put dataset for boroughs and the neighborhoods that exist in each borough as well as the the latitude and logitude coordinates of each neighborhood. "
        },
        {
            "cell_type": "markdown",
            "metadata": {},
            "source": "## 2. For City of Toronto"
        },
        {
            "cell_type": "markdown",
            "metadata": {},
            "source": "We will use the source dataset that exists on \"https://en.wikipedia.org/wiki/List_of_postal_codes_of_Canada:_M\") and 'https://cocl.us/Geospatial_data' to prepare put dataset for boroughs and the neighborhoods that exist in each borough as well as the the latitude and logitude coordinates of each neighborhood."
        },
        {
            "cell_type": "markdown",
            "metadata": {},
            "source": "## 3. For City of London"
        },
        {
            "cell_type": "markdown",
            "metadata": {},
            "source": "We will use the source dataset that exists on \"https://en.wikipedia.org/wiki/List_of_areas_of_London\") and 'https://www.freemaptools.com/download-uk-postcode-lat-lng.htm' to prepare put dataset for boroughs and the neighborhoods that exist in each borough as well as the the latitude and logitude coordinates of each neighborhood."
        },
        {
            "cell_type": "markdown",
            "metadata": {},
            "source": "## Next, we are going to start utilizing the Foursquare API to explore the neighborhoods and segment them."
        },
        {
            "cell_type": "markdown",
            "metadata": {},
            "source": "#### We will use above different datasets to gather data for each  neighborhood along with the top 5 most common venues"
        },
        {
            "cell_type": "markdown",
            "metadata": {},
            "source": "We will then Run *k*-means to cluster the neighborhood into 5 clusters.After which we create a new dataframe that includes the cluster as well as the top 10 venues for each neighborhood."
        },
        {
            "cell_type": "markdown",
            "metadata": {},
            "source": "Now, we can examine each cluster and determine the discriminating venue categories that distinguish each cluster. Based on the defining categories, we can then assign a name to each cluster."
        },
        {
            "cell_type": "code",
            "execution_count": null,
            "metadata": {},
            "outputs": [],
            "source": ""
        }
    ],
    "metadata": {
        "kernelspec": {
            "display_name": "Python 3.6",
            "language": "python",
            "name": "python3"
        },
        "language_info": {
            "codemirror_mode": {
                "name": "ipython",
                "version": 3
            },
            "file_extension": ".py",
            "mimetype": "text/x-python",
            "name": "python",
            "nbconvert_exporter": "python",
            "pygments_lexer": "ipython3",
            "version": "3.6.8"
        }
    },
    "nbformat": 4,
    "nbformat_minor": 1
}